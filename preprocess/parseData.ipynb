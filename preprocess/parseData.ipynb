{
  "nbformat": 4,
  "nbformat_minor": 0,
  "metadata": {
    "colab": {
      "name": "parseData.ipynb",
      "provenance": []
    },
    "kernelspec": {
      "name": "python3",
      "display_name": "Python 3"
    }
  },
  "cells": [
    {
      "cell_type": "code",
      "metadata": {
        "colab": {
          "base_uri": "https://localhost:8080/"
        },
        "id": "KJARh3aaPAHY",
        "outputId": "d3aba0cc-102f-4faa-e22f-2783582541c2"
      },
      "source": [
        "from google.colab import drive\r\n",
        "drive.mount('/content/drive')"
      ],
      "execution_count": null,
      "outputs": [
        {
          "output_type": "stream",
          "text": [
            "Mounted at /content/drive\n"
          ],
          "name": "stdout"
        }
      ]
    },
    {
      "cell_type": "code",
      "metadata": {
        "colab": {
          "base_uri": "https://localhost:8080/"
        },
        "id": "tpdt-cjxPU3I",
        "outputId": "980a19e3-cd51-4e83-9bfc-71c4c29e5205"
      },
      "source": [
        "cd drive/MyDrive/Custom_MaskRCNN-master/samples/custom/"
      ],
      "execution_count": null,
      "outputs": [
        {
          "output_type": "stream",
          "text": [
            "/content/drive/MyDrive/Custom_MaskRCNN-master/samples/custom\n"
          ],
          "name": "stdout"
        }
      ]
    },
    {
      "cell_type": "code",
      "metadata": {
        "id": "7JIjI5YJPU5q"
      },
      "source": [
        "import os,json\r\n",
        "\r\n",
        "data = \"via_region_data train.json\"\r\n",
        "\r\n",
        "with open(data) as data_file:\r\n",
        "    allData = json.load(data_file)\r\n",
        "    file=[]\r\n",
        "    files=os.listdir(\"../../seasonDataset\")\r\n",
        "    for key, value in allData.items():\r\n",
        "      file.append(value[\"filename\"])\r\n",
        "    for i in files:\r\n",
        "      if i in file:\r\n",
        "        os.system(\"mv ../../seasonDataset/\"+i+\" dataset/train\")"
      ],
      "execution_count": null,
      "outputs": []
    },
    {
      "cell_type": "code",
      "metadata": {
        "id": "r7hKdNykPU70"
      },
      "source": [
        "import os,json\r\n",
        "\r\n",
        "data = \"via_region_data val.json\"\r\n",
        "\r\n",
        "with open(data) as data_file:\r\n",
        "    allData = json.load(data_file)\r\n",
        "    file=[]\r\n",
        "    files=os.listdir(\"../../seasonDataset\")\r\n",
        "    for key, value in allData.items():\r\n",
        "      file.append(value[\"filename\"])\r\n",
        "    for i in files:\r\n",
        "      if i in file:\r\n",
        "        os.system(\"mv ../../seasonDataset/\"+i+\" dataset/val\")"
      ],
      "execution_count": null,
      "outputs": []
    },
    {
      "cell_type": "code",
      "metadata": {
        "colab": {
          "base_uri": "https://localhost:8080/"
        },
        "id": "I1ZCKH2nt7b1",
        "outputId": "915dbc10-2c93-4d5d-e26a-8908239d0ddc"
      },
      "source": [
        "import os,json\r\n",
        "\r\n",
        "files=os.listdir(\"../../seasonDataset\")\r\n",
        "print(len(files))"
      ],
      "execution_count": null,
      "outputs": [
        {
          "output_type": "stream",
          "text": [
            "2161\n"
          ],
          "name": "stdout"
        }
      ]
    },
    {
      "cell_type": "code",
      "metadata": {
        "colab": {
          "base_uri": "https://localhost:8080/"
        },
        "id": "d1aUqWUUuGGt",
        "outputId": "3f7e8f42-1cf2-4802-f604-f7f53ed5a882"
      },
      "source": [
        "import os,json\r\n",
        "\r\n",
        "files=os.listdir(\"dataset/train\")\r\n",
        "print(len(files))\r\n",
        "files=os.listdir(\"dataset/val\")\r\n",
        "print(len(files))"
      ],
      "execution_count": null,
      "outputs": [
        {
          "output_type": "stream",
          "text": [
            "712\n",
            "77\n"
          ],
          "name": "stdout"
        }
      ]
    }
  ]
}